{
 "cells": [
  {
   "cell_type": "markdown",
   "id": "03738b68-4395-4766-a296-356ccd480afe",
   "metadata": {},
   "source": [
    "ANS 1)characteristics of the tuples are:\n",
    "1)Tuples are used to store multiple items in a single variable.\n",
    "2)A tuple is a collection which is ordered and unchangeable.\n",
    "3)Tuples are written with round brackets.\n",
    "4)Tuple items are indexed.\n",
    "yes,tuple are immutable means we cannot add,remove,update them."
   ]
  },
  {
   "cell_type": "markdown",
   "id": "eeaf4877-f1ac-4604-96a5-ff5783d8d2f4",
   "metadata": {},
   "source": [
    "ANS 2)two tuple method are :\n",
    "1=count()\n",
    "2=index()\n",
    "Tuples are immutable, whereas lists can be modified. This in itself explains why tuples don't have any way of modifying them,"
   ]
  },
  {
   "cell_type": "code",
   "execution_count": 3,
   "id": "48e23238-54df-488b-b182-f46960249834",
   "metadata": {},
   "outputs": [],
   "source": [
    "atup=(1,2,3,4,5,6,1,2,1,3,4,2)"
   ]
  },
  {
   "cell_type": "code",
   "execution_count": 4,
   "id": "bc07302d-dd0a-4b35-b439-1004101d2a9d",
   "metadata": {},
   "outputs": [
    {
     "data": {
      "text/plain": [
       "3"
      ]
     },
     "execution_count": 4,
     "metadata": {},
     "output_type": "execute_result"
    }
   ],
   "source": [
    "##count() example\n",
    "atup.count(1)"
   ]
  },
  {
   "cell_type": "code",
   "execution_count": 6,
   "id": "03c640bc-6ffc-486c-93d3-1b5e510363a0",
   "metadata": {},
   "outputs": [
    {
     "data": {
      "text/plain": [
       "5"
      ]
     },
     "execution_count": 6,
     "metadata": {},
     "output_type": "execute_result"
    }
   ],
   "source": [
    "##index() example (return the index of the element)\n",
    "atup.index(6)"
   ]
  },
  {
   "cell_type": "markdown",
   "id": "5f97c8ff-09f7-4d87-af09-698487672265",
   "metadata": {},
   "source": [
    "ANS 3) set collection datatype do not allow duplicate"
   ]
  },
  {
   "cell_type": "code",
   "execution_count": 11,
   "id": "419e81cb-3ba1-4f7a-bd97-2b292fc4c77e",
   "metadata": {},
   "outputs": [],
   "source": [
    "#set remove duplicates.\n",
    "List = {1, 1, 1, 2, 1, 3, 1, 4, 2, 1, 2, 2, 2, 3, 2, 4, 3, 1, 3, 2, 3, 3, 3, 4, 4, 1, 4, 2, 4, 3, 4, 4}"
   ]
  },
  {
   "cell_type": "code",
   "execution_count": 12,
   "id": "d38e1a33-1a1d-4cf8-8d0f-9f2369f5466e",
   "metadata": {},
   "outputs": [
    {
     "name": "stdout",
     "output_type": "stream",
     "text": [
      "{1, 2, 3, 4}\n"
     ]
    }
   ],
   "source": [
    "print(List)"
   ]
  },
  {
   "cell_type": "markdown",
   "id": "eddd3b45-2b34-4057-af86-74915ffa5560",
   "metadata": {},
   "source": [
    "ANS 4)Python sets have these methods:\n",
    "\n",
    "s.union(t)= new set with elements from both s and t\n",
    "\n",
    "s.update(t)= return set s with elements added from t"
   ]
  },
  {
   "cell_type": "code",
   "execution_count": 18,
   "id": "5e96ded3-b58a-4b63-b72a-5d554091cf1a",
   "metadata": {},
   "outputs": [],
   "source": [
    "#example\n",
    "s={1,2,3,4,5}\n",
    "t={6,7,8,9,10}"
   ]
  },
  {
   "cell_type": "markdown",
   "id": "d27a9d3d-7eeb-45c0-96aa-ffd0ebb2b38c",
   "metadata": {},
   "source": [
    "s.union(t)"
   ]
  },
  {
   "cell_type": "code",
   "execution_count": 23,
   "id": "2c115b62-92a6-441b-9c1d-36555df3b797",
   "metadata": {},
   "outputs": [
    {
     "name": "stdout",
     "output_type": "stream",
     "text": [
      "{1, 2, 3, 4, 5, 6, 7, 8, 9, 10}\n"
     ]
    }
   ],
   "source": [
    "s.update(t)\n",
    "print(s)"
   ]
  },
  {
   "cell_type": "markdown",
   "id": "329097ff-ff75-4a6e-881b-dd1899222a5b",
   "metadata": {},
   "source": [
    "ANS 5)the dictionary is an unordered collection that contains key:value pairs separated by commas inside curly brackets. Dictionaries are optimized to retrieve values when the key is known."
   ]
  },
  {
   "cell_type": "code",
   "execution_count": 24,
   "id": "98104320-d601-45f2-a599-8f34b6939f28",
   "metadata": {},
   "outputs": [],
   "source": [
    "#example of dict\n",
    "dict1={\"one\":1,\"two\":2,\"three\":3}"
   ]
  },
  {
   "cell_type": "code",
   "execution_count": 25,
   "id": "a80a0815-755b-433a-81d2-ffb03b00ccda",
   "metadata": {},
   "outputs": [
    {
     "name": "stdout",
     "output_type": "stream",
     "text": [
      "{'one': 1, 'two': 2, 'three': 3}\n"
     ]
    }
   ],
   "source": [
    "print(dict1)"
   ]
  },
  {
   "cell_type": "markdown",
   "id": "3ff790df-fa06-49dc-973e-41aaa18874c5",
   "metadata": {},
   "source": [
    "ANS 6) yes we create a nested dictionary"
   ]
  },
  {
   "cell_type": "code",
   "execution_count": 26,
   "id": "b16bffec-5501-4261-904b-223fdad48080",
   "metadata": {},
   "outputs": [],
   "source": [
    "# example of nested dictionary\n",
    "a={\"dict1\":{\"one\":1,\"two\":2},\"dict2\":{\"three\":3,\"four\":4}}"
   ]
  },
  {
   "cell_type": "code",
   "execution_count": null,
   "id": "bc8be79e-736e-46dd-9a11-b2e4edb0e5af",
   "metadata": {},
   "outputs": [
    {
     "name": "stdout",
     "output_type": "stream",
     "text": [
      "{'dict1': {'one': 1, 'two': 2}, 'dict2': {'three': 3, 'four': 4}}\n"
     ]
    }
   ],
   "source": [
    "print(a)"
   ]
  },
  {
   "cell_type": "code",
   "execution_count": 39,
   "id": "eb7df468-559b-4ef1-aac0-5473f687832d",
   "metadata": {},
   "outputs": [
    {
     "name": "stdout",
     "output_type": "stream",
     "text": [
      "1\n"
     ]
    }
   ],
   "source": [
    "print(a[\"dict1\"][\"one\"])"
   ]
  },
  {
   "cell_type": "markdown",
   "id": "738f5e8d-a666-4c3b-b50f-5681919255fe",
   "metadata": {},
   "source": [
    "ANS 7)"
   ]
  },
  {
   "cell_type": "code",
   "execution_count": 40,
   "id": "7f99954e-6a24-4f2e-b4b4-c1ca8b7ccad6",
   "metadata": {},
   "outputs": [],
   "source": [
    "dict1 = {'language' : 'Python', 'course': 'Data Science Masters'}"
   ]
  },
  {
   "cell_type": "code",
   "execution_count": 41,
   "id": "698805e9-141b-4f87-bb17-70e19c65fc62",
   "metadata": {},
   "outputs": [
    {
     "data": {
      "text/plain": [
       "['Python', 'Machine Learning', 'Deep Learning']"
      ]
     },
     "execution_count": 41,
     "metadata": {},
     "output_type": "execute_result"
    }
   ],
   "source": [
    "dict1.setdefault(\"topics\",[\"Python\", \"Machine Learning\", \"Deep Learning\"])"
   ]
  },
  {
   "cell_type": "code",
   "execution_count": 42,
   "id": "4afcb799-792c-4aa8-9a0b-77a84144a5a6",
   "metadata": {},
   "outputs": [
    {
     "name": "stdout",
     "output_type": "stream",
     "text": [
      "{'language': 'Python', 'course': 'Data Science Masters', 'topics': ['Python', 'Machine Learning', 'Deep Learning']}\n"
     ]
    }
   ],
   "source": [
    "print(dict1)"
   ]
  },
  {
   "cell_type": "markdown",
   "id": "8b0080ad-ce02-4dba-b06f-a19f045140da",
   "metadata": {},
   "source": [
    "ANS 8) The main view objects of dictionary in python are keys(), values() and items()."
   ]
  },
  {
   "cell_type": "code",
   "execution_count": 45,
   "id": "725bcf98-e4a2-4535-8550-dcd899103761",
   "metadata": {},
   "outputs": [],
   "source": [
    "dict1 = {'Sport': 'Cricket' , 'Teams': ['India', 'Australia', 'England', 'South Africa', 'Sri Lanka', 'New Zealand']}"
   ]
  },
  {
   "cell_type": "code",
   "execution_count": 52,
   "id": "9e8d3b04-4032-4ee6-b915-1ad3ce6e5853",
   "metadata": {},
   "outputs": [
    {
     "name": "stdout",
     "output_type": "stream",
     "text": [
      "dict_keys(['Sport', 'Teams'])\n"
     ]
    }
   ],
   "source": [
    "print(dict1.keys())"
   ]
  },
  {
   "cell_type": "code",
   "execution_count": 48,
   "id": "e662b840-8cdf-4f1c-8f0a-65411e328abb",
   "metadata": {},
   "outputs": [
    {
     "name": "stdout",
     "output_type": "stream",
     "text": [
      "dict_values(['Cricket', ['India', 'Australia', 'England', 'South Africa', 'Sri Lanka', 'New Zealand']])\n"
     ]
    }
   ],
   "source": [
    "print(dict1.values())"
   ]
  },
  {
   "cell_type": "code",
   "execution_count": 51,
   "id": "ef6071f3-e416-4809-90e9-59baa21d9af7",
   "metadata": {},
   "outputs": [
    {
     "name": "stdout",
     "output_type": "stream",
     "text": [
      "dict_items([('Sport', 'Cricket'), ('Teams', ['India', 'Australia', 'England', 'South Africa', 'Sri Lanka', 'New Zealand'])])\n"
     ]
    }
   ],
   "source": [
    "print(dict1.items())"
   ]
  }
 ],
 "metadata": {
  "kernelspec": {
   "display_name": "Python 3 (ipykernel)",
   "language": "python",
   "name": "python3"
  },
  "language_info": {
   "codemirror_mode": {
    "name": "ipython",
    "version": 3
   },
   "file_extension": ".py",
   "mimetype": "text/x-python",
   "name": "python",
   "nbconvert_exporter": "python",
   "pygments_lexer": "ipython3",
   "version": "3.10.8"
  }
 },
 "nbformat": 4,
 "nbformat_minor": 5
}
