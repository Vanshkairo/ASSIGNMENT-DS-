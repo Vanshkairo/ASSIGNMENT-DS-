{
 "cells": [
  {
   "cell_type": "markdown",
   "id": "c3d2fa75-d3ed-4246-9aae-1c91f3199f9a",
   "metadata": {},
   "source": [
    "ANS1) In Object-Oriented Programming (OOP), a class is a blueprint for creating objects (a particular data structure), providing initial values for state (member variables or attributes), and implementations of behavior (member functions or methods). An object is an instance of a class. When the individual objects are created, they inherit all the variables and methods from the class. Here’s an example of a class named “Person” "
   ]
  },
  {
   "cell_type": "code",
   "execution_count": 23,
   "id": "3ac54709-f691-4318-b6f0-fcf89015358c",
   "metadata": {},
   "outputs": [],
   "source": [
    "class Person:\n",
    "    def __init__(self, name, age):\n",
    "        self.name = name\n",
    "        self.age = age\n",
    "        def return_student_detials(self):\n",
    "          return self.name, self.age "
   ]
  },
  {
   "cell_type": "code",
   "execution_count": 28,
   "id": "8da8193f-5fc9-4789-b4b5-c0789a1f2d13",
   "metadata": {},
   "outputs": [],
   "source": [
    "p1 = Person(\"John\", 36)"
   ]
  },
  {
   "cell_type": "code",
   "execution_count": 15,
   "id": "91b8c43a-2999-42f7-9f6d-9685dba4d6cb",
   "metadata": {},
   "outputs": [
    {
     "data": {
      "text/plain": [
       "'John'"
      ]
     },
     "execution_count": 15,
     "metadata": {},
     "output_type": "execute_result"
    }
   ],
   "source": [
    "p1.name"
   ]
  },
  {
   "cell_type": "code",
   "execution_count": 31,
   "id": "5a4224ed-36e4-4bab-b403-05bc35b29b20",
   "metadata": {},
   "outputs": [
    {
     "data": {
      "text/plain": [
       "36"
      ]
     },
     "execution_count": 31,
     "metadata": {},
     "output_type": "execute_result"
    }
   ],
   "source": [
    "p1.age"
   ]
  },
  {
   "cell_type": "markdown",
   "id": "cec0e4ad-0e9b-424a-b565-2cfbfd3cba62",
   "metadata": {},
   "source": [
    "ANS2) Four pillars of OOPS are:\n",
    "    1)encapsulation\n",
    "    2)inheritence\n",
    "    3)polymorphism\n",
    "    4)Data Abstraction"
   ]
  },
  {
   "cell_type": "markdown",
   "id": "8da64f7f-ed82-4925-92d3-3e19411efc8c",
   "metadata": {},
   "source": [
    "ANS3) The init() function is used to initialize the object’s attributes. It is called automatically when an object is created. The purpose of the init() function is to assign values to the object’s properties or attributes. In this example, we have a class named Person, with two attributes: name and age. We use the init() function to assign values to these attributes when the object is created."
   ]
  },
  {
   "cell_type": "code",
   "execution_count": 32,
   "id": "14f06ef6-f854-44f2-b69f-c1504c34cb29",
   "metadata": {},
   "outputs": [
    {
     "name": "stdout",
     "output_type": "stream",
     "text": [
      "John\n",
      "36\n"
     ]
    }
   ],
   "source": [
    "class Person:\n",
    "  def __init__(self, name, age):\n",
    "    self.name = name\n",
    "    self.age = age\n",
    "\n",
    "p1 = Person(\"John\", 36)\n",
    "\n",
    "print(p1.name)\n",
    "print(p1.age)"
   ]
  },
  {
   "cell_type": "markdown",
   "id": "5ad8add3-3270-47a7-977e-0b37eb865089",
   "metadata": {},
   "source": [
    "ANS4)In OOPs, self is used to refer to the instance of a class. It is a reference to the object that is calling the method. When you create an object of a class, you can access its attributes and methods using self.In this example, we have a class named Person with two attributes: name and age. We use self to access these attributes in the method myfunc()."
   ]
  },
  {
   "cell_type": "code",
   "execution_count": 34,
   "id": "3ef6db18-3093-4bb8-8e68-8df044bcf67b",
   "metadata": {},
   "outputs": [
    {
     "name": "stdout",
     "output_type": "stream",
     "text": [
      "Hello my name is John\n"
     ]
    }
   ],
   "source": [
    "class Person:\n",
    "  def __init__(self, name, age):\n",
    "    self.name = name\n",
    "    self.age = age\n",
    "\n",
    "  def myfunc(self):\n",
    "    print(\"Hello my name is \" + self.name)\n",
    "\n",
    "p1 = Person(\"John\", 36)\n",
    "p1.myfunc()"
   ]
  },
  {
   "cell_type": "markdown",
   "id": "d53e73d1-6223-4713-b51c-71860bda6efe",
   "metadata": {},
   "source": [
    "##ANS 5) Inheritance is the ability to create a new class (child class) from an existing one (parent class). The child class inherits all the properties and methods of its parent class. This allows you to reuse code and reduce redundancy.\n",
    "\n",
    "There are four types of inheritance in Python:\n",
    "\n",
    "Single inheritance\n",
    "Multiple inheritance\n",
    "Multi-level inheritance\n",
    "Hierarchical Inheritance\n",
    "Here’s an example for each type of inheritance:\n",
    "\n",
    "Single inheritance:\n",
    "In this example, we have a class named Person with two attributes: firstname and lastname. We create a new class named Student which inherits from Person using single inheritance. The Student class has no attributes or methods of its own.\n"
   ]
  },
  {
   "cell_type": "code",
   "execution_count": 35,
   "id": "67d950e2-49bf-4167-bcbd-b840e8788fcf",
   "metadata": {},
   "outputs": [
    {
     "name": "stdout",
     "output_type": "stream",
     "text": [
      "Mike Olsen\n"
     ]
    }
   ],
   "source": [
    "class Person:\n",
    "  def __init__(self, fname, lname):\n",
    "    self.firstname = fname\n",
    "    self.lastname = lname\n",
    "\n",
    "  def printname(self):\n",
    "    print(self.firstname, self.lastname)\n",
    "\n",
    "class Student(Person):\n",
    "  pass\n",
    "\n",
    "x = Student(\"Mike\", \"Olsen\")\n",
    "x.printname()"
   ]
  },
  {
   "cell_type": "markdown",
   "id": "48b99866-e49f-4b98-abd1-75402317a1e8",
   "metadata": {},
   "source": [
    "Multiple inheritance:\n",
    "In this example, we have three classes: Person, Student and Teacher. We create a new class named TA which inherits from both Student and Teacher using multiple inheritance."
   ]
  },
  {
   "cell_type": "code",
   "execution_count": 36,
   "id": "c08fcf62-3134-4c7b-a539-5fbebe00ef99",
   "metadata": {},
   "outputs": [
    {
     "name": "stdout",
     "output_type": "stream",
     "text": [
      "Mike Olsen\n"
     ]
    }
   ],
   "source": [
    "class Person:\n",
    "  def __init__(self, fname, lname):\n",
    "    self.firstname = fname\n",
    "    self.lastname = lname\n",
    "\n",
    "  def printname(self):\n",
    "    print(self.firstname, self.lastname)\n",
    "\n",
    "class Student(Person):\n",
    "  pass\n",
    "\n",
    "class Teacher(Person):\n",
    "  pass\n",
    "\n",
    "class TA(Student, Teacher):\n",
    "  pass\n",
    "\n",
    "x = TA(\"Mike\", \"Olsen\")\n",
    "x.printname()"
   ]
  },
  {
   "cell_type": "markdown",
   "id": "0d3439c7-7453-4500-a519-c1420305bba9",
   "metadata": {},
   "source": [
    "Multi-level inheritance:\n",
    "In this example, we have two classes: Person and Student. We create a new class named Graduate which inherits from Student using multi-level inheritance."
   ]
  },
  {
   "cell_type": "code",
   "execution_count": 37,
   "id": "579e2608-c274-4968-83bf-051895dad5ad",
   "metadata": {},
   "outputs": [
    {
     "name": "stdout",
     "output_type": "stream",
     "text": [
      "Mike Olsen\n"
     ]
    }
   ],
   "source": [
    "class Person:\n",
    "  def __init__(self, fname, lname):\n",
    "    self.firstname = fname\n",
    "    self.lastname = lname\n",
    "\n",
    "  def printname(self):\n",
    "    print(self.firstname, self.lastname)\n",
    "\n",
    "class Student(Person):\n",
    "  pass\n",
    "\n",
    "class Graduate(Student):\n",
    "  pass\n",
    "\n",
    "x = Graduate(\"Mike\", \"Olsen\")\n",
    "x.printname()"
   ]
  },
  {
   "cell_type": "markdown",
   "id": "15a12054-b042-4613-878b-95be83c11dc6",
   "metadata": {},
   "source": [
    "Hierarchical Inheritance:\n",
    "In this example, we have three classes: Person, Student and Teacher. We create a new class named TA which inherits from Student using hierarchical inheritance."
   ]
  },
  {
   "cell_type": "code",
   "execution_count": 38,
   "id": "33b58d49-6d57-4476-a49c-2fa76c7554b3",
   "metadata": {},
   "outputs": [
    {
     "name": "stdout",
     "output_type": "stream",
     "text": [
      "Mike Olsen\n"
     ]
    }
   ],
   "source": [
    "class Person:\n",
    "  def __init__(self, fname, lname):\n",
    "    self.firstname = fname\n",
    "    self.lastname = lname\n",
    "\n",
    "  def printname(self):\n",
    "    print(self.firstname, self.lastname)\n",
    "\n",
    "class Student(Person):\n",
    "  pass\n",
    "\n",
    "class Teacher(Person):\n",
    "  pass\n",
    "\n",
    "class TA(Student):\n",
    "  pass\n",
    "\n",
    "x = TA(\"Mike\", \"Olsen\")\n",
    "x.printname()"
   ]
  },
  {
   "cell_type": "code",
   "execution_count": null,
   "id": "ec47fbe1-64fd-4a51-95b6-a6d71eb71ceb",
   "metadata": {},
   "outputs": [],
   "source": []
  }
 ],
 "metadata": {
  "kernelspec": {
   "display_name": "Python 3 (ipykernel)",
   "language": "python",
   "name": "python3"
  },
  "language_info": {
   "codemirror_mode": {
    "name": "ipython",
    "version": 3
   },
   "file_extension": ".py",
   "mimetype": "text/x-python",
   "name": "python",
   "nbconvert_exporter": "python",
   "pygments_lexer": "ipython3",
   "version": "3.10.8"
  }
 },
 "nbformat": 4,
 "nbformat_minor": 5
}
